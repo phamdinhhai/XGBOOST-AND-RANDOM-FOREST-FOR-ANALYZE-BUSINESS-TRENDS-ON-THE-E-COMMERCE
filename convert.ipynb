{
 "cells": [
  {
   "cell_type": "code",
   "execution_count": 1,
   "metadata": {},
   "outputs": [
    {
     "name": "stdout",
     "output_type": "stream",
     "text": [
      "Đã lưu file PDF tại: main.pdf\n"
     ]
    }
   ],
   "source": [
    "import os\n",
    "from nbconvert import PDFExporter\n",
    "from nbformat import read\n",
    "\n",
    "# Đường dẫn tới file notebook\n",
    "input_file = r\"main.ipynb\"\n",
    "output_file = r\"main.pdf\"\n",
    "\n",
    "# Đọc file ipynb\n",
    "with open(input_file, \"r\", encoding=\"utf-8\") as f:\n",
    "    notebook_content = read(f, as_version=4)\n",
    "\n",
    "# Xuất PDF\n",
    "pdf_exporter = PDFExporter()\n",
    "(pdf_data, resources) = pdf_exporter.from_notebook_node(notebook_content)\n",
    "\n",
    "# Lưu file PDF\n",
    "with open(output_file, \"wb\") as f:\n",
    "    f.write(pdf_data)\n",
    "\n",
    "print(f\"Đã lưu file PDF tại: {output_file}\")\n"
   ]
  }
 ],
 "metadata": {
  "kernelspec": {
   "display_name": "Python 3",
   "language": "python",
   "name": "python3"
  },
  "language_info": {
   "codemirror_mode": {
    "name": "ipython",
    "version": 3
   },
   "file_extension": ".py",
   "mimetype": "text/x-python",
   "name": "python",
   "nbconvert_exporter": "python",
   "pygments_lexer": "ipython3",
   "version": "3.12.8"
  }
 },
 "nbformat": 4,
 "nbformat_minor": 2
}
